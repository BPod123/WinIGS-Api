{
 "cells": [
  {
   "cell_type": "code",
   "execution_count": 1,
   "id": "individual-permission",
   "metadata": {},
   "outputs": [],
   "source": [
    "import tensorflow as tf\n",
    "import pandas as pd\n",
    "import numpy as np\n",
    "from sklearn.model_selection import train_test_split\n",
    "from sklearn.preprocessing import RobustScaler\n",
    "import matplotlib.pyplot as plt\n",
    "import time\n",
    "import os\n",
    "import pickle"
   ]
  },
  {
   "cell_type": "code",
   "execution_count": 2,
   "id": "bearing-prisoner",
   "metadata": {},
   "outputs": [
    {
     "data": {
      "text/plain": [
       "['.ipynb_checkpoints',\n",
       " 'DS_STRAINING_000-002_T102R100PV000CON-SIMPLIFIED_MAIN.CSV',\n",
       " 'DS_STRAINING_000-002_T102R097PV000COFF-SIMPLIFIED_MAIN.CSV',\n",
       " 'DS_STRAINING_000-002_T102R097PV000CON-SIMPLIFIED_MAIN.CSV',\n",
       " 'Round1Predictions',\n",
       " 'Round2Predictions']"
      ]
     },
     "execution_count": 2,
     "metadata": {},
     "output_type": "execute_result"
    }
   ],
   "source": [
    "os.listdir('./Data/TestData/Test13Feb')"
   ]
  },
  {
   "cell_type": "code",
   "execution_count": 3,
   "id": "brief-suffering",
   "metadata": {
    "scrolled": true
   },
   "outputs": [],
   "source": [
    "with open('./ScalersFromTraining/ScalerX.pkl', 'rb') as f:\n",
    "    scaler_x = pickle.load(f)"
   ]
  },
  {
   "cell_type": "code",
   "execution_count": 4,
   "id": "political-rating",
   "metadata": {},
   "outputs": [],
   "source": [
    "with open('./ScalersFromTraining/ScalerY.pkl', 'rb') as f:\n",
    "    scaler_y = pickle.load(f)"
   ]
  },
  {
   "cell_type": "code",
   "execution_count": 5,
   "id": "beginning-pharmaceutical",
   "metadata": {},
   "outputs": [],
   "source": [
    "def get_labels(file_path):\n",
    "    '''\n",
    "    file_path: string \n",
    "    '''\n",
    "    controls = file_path.split(\"_\")[3] #eg. 'T102R009PV680COF'\n",
    "    regulator = int(controls[5]) + int(controls[7]) / 10\n",
    "    phase = int(controls[10:13]) / 10\n",
    "    capacitor = 0\n",
    "    if controls[14:16] == 'ON':\n",
    "        capacitor = 1\n",
    "#     return [transformer, regulator, phase, capacitor]\n",
    "    return [regulator, phase, capacitor]\n",
    "\n",
    "def sequencify(df, filename):\n",
    "    # takes in raw dataframe\n",
    "    # get control settings\n",
    "    # each row is a 2D array:\n",
    "    #   [ [x_t], [x_{t+1}] ]\n",
    "    #   [y (ie. control settings) ]\n",
    "    data_x = []\n",
    "    data_y = []\n",
    "    labels = get_labels(filename)\n",
    "    for i in range(1, len(df)):\n",
    "        data_x.append([df.iloc[i-1,1:].values,\n",
    "#                        labels,\n",
    "                       df.iloc[i,1:].values])\n",
    "        data_y.append(labels)\n",
    "    \n",
    "    return np.stack(data_x), np.array(data_y)"
   ]
  },
  {
   "cell_type": "code",
   "execution_count": 8,
   "id": "great-hindu",
   "metadata": {},
   "outputs": [],
   "source": [
    "model_a = tf.keras.models.load_model('./Saved_Models/Training/MultiheadedAttentionLSTM_Simple.h5', compile=False)\n",
    "model_b = tf.keras.models.load_model('./Saved_Models/Training/B_LSTM.h5', compile=False)\n",
    "model_c = tf.keras.models.load_model('./Saved_Models/Training/C_LSTM.h5', compile=False)"
   ]
  },
  {
   "cell_type": "code",
   "execution_count": 10,
   "id": "verbal-center",
   "metadata": {},
   "outputs": [],
   "source": [
    "def predict(model, model_type, x_scaled, y_scaled, i):\n",
    "    start_time = time.time()\n",
    "    if model_type == 'A':\n",
    "        pred = model.predict([x_scaled, x_scaled, y_scaled])\n",
    "    elif model_type == 'B':\n",
    "        pred = model.predict([x_scaled, y_scaled])\n",
    "    else:\n",
    "        pred = model.predict(x_scaled)\n",
    "    end_time = time.time()\n",
    "    pred_time = end_time - start_time\n",
    "    print(f\"Prediction Time for Model {model_type}: {pred_time}s\")\n",
    "    np.savetxt(f\"./Data/TestData/Test13Feb/Round2Predictions/Test{i}_Predictions{model_type}_{file_path}.csv\",\n",
    "               pred, delimiter=',')\n",
    "\n",
    "def get_predictions(file_path, index, model_a, model_b, model_c):\n",
    "    test = pd.read_csv(f\"./Data/TestData/Test13Feb/{file_path}\", skiprows=[0,1,2,4])\n",
    "    x, y = sequencify(test, file_path)\n",
    "    x_scaled = scaler_x.transform(x.reshape(-1, x.shape[-1])).reshape(x.shape)\n",
    "    y_scaled = scaler_y.transform(y)\n",
    "    print(f\"Predictions for {file_path}:\")\n",
    "    predict(model_a, \"A\", x_scaled, y_scaled, index)\n",
    "    predict(model_b, \"B\", x_scaled, y_scaled, index)\n",
    "    predict(model_c, \"C\", x_scaled, y_scaled, index) \n",
    "    print(\"**********\\n\")"
   ]
  },
  {
   "cell_type": "code",
   "execution_count": 11,
   "id": "bizarre-house",
   "metadata": {},
   "outputs": [
    {
     "name": "stdout",
     "output_type": "stream",
     "text": [
      "Predictions for DS_STRAINING_000-002_T102R100PV000CON-SIMPLIFIED_MAIN.CSV:\n",
      "Prediction Time for Model A: 4.945444345474243s\n",
      "Prediction Time for Model B: 0.49169921875s\n",
      "Prediction Time for Model C: 1.0756793022155762s\n",
      "**********\n",
      "\n",
      "Predictions for DS_STRAINING_000-002_T102R097PV000COFF-SIMPLIFIED_MAIN.CSV:\n",
      "Prediction Time for Model A: 0.2127683162689209s\n",
      "Prediction Time for Model B: 0.17661333084106445s\n",
      "Prediction Time for Model C: 0.2557835578918457s\n",
      "**********\n",
      "\n",
      "Predictions for DS_STRAINING_000-002_T102R097PV000CON-SIMPLIFIED_MAIN.CSV:\n",
      "Prediction Time for Model A: 0.21486258506774902s\n",
      "Prediction Time for Model B: 0.17293334007263184s\n",
      "Prediction Time for Model C: 0.25119829177856445s\n",
      "**********\n",
      "\n"
     ]
    }
   ],
   "source": [
    "i = 1\n",
    "for file_path in os.listdir('./Data/TestData/Test13Feb'):\n",
    "    if file_path[0] == 'D':\n",
    "        get_predictions(file_path, i, model_a, model_b, model_c)\n",
    "        i += 1    "
   ]
  }
 ],
 "metadata": {
  "kernelspec": {
   "display_name": "Python 3",
   "language": "python",
   "name": "python3"
  },
  "language_info": {
   "codemirror_mode": {
    "name": "ipython",
    "version": 3
   },
   "file_extension": ".py",
   "mimetype": "text/x-python",
   "name": "python",
   "nbconvert_exporter": "python",
   "pygments_lexer": "ipython3",
   "version": "3.8.10"
  }
 },
 "nbformat": 4,
 "nbformat_minor": 5
}
